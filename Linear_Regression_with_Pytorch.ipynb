{
  "nbformat": 4,
  "nbformat_minor": 0,
  "metadata": {
    "colab": {
      "provenance": [],
      "authorship_tag": "ABX9TyPMdjs2nO4w1ltdFdzLnJLP",
      "include_colab_link": true
    },
    "kernelspec": {
      "name": "python3",
      "display_name": "Python 3"
    },
    "language_info": {
      "name": "python"
    }
  },
  "cells": [
    {
      "cell_type": "markdown",
      "metadata": {
        "id": "view-in-github",
        "colab_type": "text"
      },
      "source": [
        "<a href=\"https://colab.research.google.com/github/ishan13b/Pytorch-Implementation/blob/main/Linear_Regression_with_Pytorch.ipynb\" target=\"_parent\"><img src=\"https://colab.research.google.com/assets/colab-badge.svg\" alt=\"Open In Colab\"/></a>"
      ]
    },
    {
      "cell_type": "code",
      "execution_count": 1,
      "metadata": {
        "id": "pGZZ8HAbLX43"
      },
      "outputs": [],
      "source": [
        "import torch\n",
        "import torch.nn as nn\n",
        "import numpy as np\n",
        "from sklearn import datasets\n",
        "import matplotlib.pyplot as plt"
      ]
    },
    {
      "cell_type": "markdown",
      "source": [
        "1. Prepare Data\n"
      ],
      "metadata": {
        "id": "1G-VlGYQM5LO"
      }
    },
    {
      "cell_type": "code",
      "source": [
        "X_numpy, y_numpy = datasets.make_regression(n_samples=100, n_features=1, noise=20, random_state=1)\n",
        "X = torch.from_numpy(X_numpy.astype(np.float32))\n",
        "y = torch.from_numpy(y_numpy.astype(np.float32))\n",
        "y = y.view(y.shape[0], 1)"
      ],
      "metadata": {
        "id": "fhmq6QMkM74f"
      },
      "execution_count": 2,
      "outputs": []
    },
    {
      "cell_type": "markdown",
      "source": [
        "2. Model"
      ],
      "metadata": {
        "id": "AKzHP0t-M8Zs"
      }
    },
    {
      "cell_type": "code",
      "source": [
        "n_samples, n_features = X.shape\n",
        "input_size = n_features\n",
        "output_size = 1\n",
        "model = nn.Linear(input_size, output_size)"
      ],
      "metadata": {
        "id": "04k96ZSQM-4w"
      },
      "execution_count": 3,
      "outputs": []
    },
    {
      "cell_type": "markdown",
      "source": [
        "3. Loss & Optimizer"
      ],
      "metadata": {
        "id": "1mP7bimwNAAq"
      }
    },
    {
      "cell_type": "code",
      "source": [
        "criterion = nn.MSELoss()\n",
        "learning_rate = 0.01\n",
        "optimizer = torch.optim.SGD(model.parameters(), lr=learning_rate)"
      ],
      "metadata": {
        "id": "FCvAx1m9NCt9"
      },
      "execution_count": 4,
      "outputs": []
    },
    {
      "cell_type": "markdown",
      "source": [
        "4. Training Loop"
      ],
      "metadata": {
        "id": "fqzSlQ1QNC_R"
      }
    },
    {
      "cell_type": "code",
      "source": [
        "num_epochs = 500\n",
        "for epochs in range(num_epochs):\n",
        "  #forward pass and loss\n",
        "  y_predicted = model(X)\n",
        "  loss = criterion(y_predicted, y)\n",
        "\n",
        "  #backward pass\n",
        "  loss.backward()\n",
        "\n",
        "  #update\n",
        "  optimizer.step()\n",
        "\n",
        "  #zero gradients\n",
        "  optimizer.zero_grad()\n",
        "\n",
        "  if (epochs+1) % 10 ==0:\n",
        "    print(f'epoch: {epochs+1}, loss = {loss.item():.4f}')\n",
        "\n",
        "\n",
        "\n"
      ],
      "metadata": {
        "colab": {
          "base_uri": "https://localhost:8080/"
        },
        "id": "qHAFo0W7NEt8",
        "outputId": "ae7caa0b-de2c-4902-b077-9eb4d2768e89"
      },
      "execution_count": 6,
      "outputs": [
        {
          "output_type": "stream",
          "name": "stdout",
          "text": [
            "epoch: 10, loss = 504.1338\n",
            "epoch: 20, loss = 457.7916\n",
            "epoch: 30, loss = 424.0004\n",
            "epoch: 40, loss = 399.3502\n",
            "epoch: 50, loss = 381.3604\n",
            "epoch: 60, loss = 368.2267\n",
            "epoch: 70, loss = 358.6347\n",
            "epoch: 80, loss = 351.6273\n",
            "epoch: 90, loss = 346.5065\n",
            "epoch: 100, loss = 342.7634\n",
            "epoch: 110, loss = 340.0268\n",
            "epoch: 120, loss = 338.0255\n",
            "epoch: 130, loss = 336.5617\n",
            "epoch: 140, loss = 335.4909\n",
            "epoch: 150, loss = 334.7075\n",
            "epoch: 160, loss = 334.1342\n",
            "epoch: 170, loss = 333.7146\n",
            "epoch: 180, loss = 333.4074\n",
            "epoch: 190, loss = 333.1825\n",
            "epoch: 200, loss = 333.0179\n",
            "epoch: 210, loss = 332.8973\n",
            "epoch: 220, loss = 332.8091\n",
            "epoch: 230, loss = 332.7445\n",
            "epoch: 240, loss = 332.6971\n",
            "epoch: 250, loss = 332.6625\n",
            "epoch: 260, loss = 332.6371\n",
            "epoch: 270, loss = 332.6186\n",
            "epoch: 280, loss = 332.6049\n",
            "epoch: 290, loss = 332.5949\n",
            "epoch: 300, loss = 332.5876\n",
            "epoch: 310, loss = 332.5823\n",
            "epoch: 320, loss = 332.5783\n",
            "epoch: 330, loss = 332.5754\n",
            "epoch: 340, loss = 332.5733\n",
            "epoch: 350, loss = 332.5718\n",
            "epoch: 360, loss = 332.5707\n",
            "epoch: 370, loss = 332.5698\n",
            "epoch: 380, loss = 332.5692\n",
            "epoch: 390, loss = 332.5688\n",
            "epoch: 400, loss = 332.5685\n",
            "epoch: 410, loss = 332.5682\n",
            "epoch: 420, loss = 332.5681\n",
            "epoch: 430, loss = 332.5679\n",
            "epoch: 440, loss = 332.5678\n",
            "epoch: 450, loss = 332.5678\n",
            "epoch: 460, loss = 332.5677\n",
            "epoch: 470, loss = 332.5677\n",
            "epoch: 480, loss = 332.5677\n",
            "epoch: 490, loss = 332.5676\n",
            "epoch: 500, loss = 332.5676\n"
          ]
        }
      ]
    },
    {
      "cell_type": "markdown",
      "source": [
        "5. Plotting"
      ],
      "metadata": {
        "id": "Jtq1YFvzoH3n"
      }
    },
    {
      "cell_type": "code",
      "source": [
        "predicted = model(X).detach().numpy()\n",
        "plt.plot(X_numpy, y_numpy, 'ro')\n",
        "plt.plot(X_numpy, predicted, 'b')\n",
        "plt.show()"
      ],
      "metadata": {
        "colab": {
          "base_uri": "https://localhost:8080/",
          "height": 432
        },
        "id": "NlD6sVKioJ1m",
        "outputId": "c4e3409e-9dac-4ea8-b703-358b3ee6cc5b"
      },
      "execution_count": 7,
      "outputs": [
        {
          "output_type": "display_data",
          "data": {
            "text/plain": [
              "<Figure size 640x480 with 1 Axes>"
            ],
            "image/png": "[encoded data removed]"
          },
          "metadata": {}
        }
      ]
    }
  ]
}