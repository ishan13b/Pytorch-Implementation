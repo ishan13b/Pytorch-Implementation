{
  "nbformat": 4,
  "nbformat_minor": 0,
  "metadata": {
    "colab": {
      "provenance": [],
      "authorship_tag": "ABX9TyPEZOIRuD4QMcLiEnUrOt3s",
      "include_colab_link": true
    },
    "kernelspec": {
      "name": "python3",
      "display_name": "Python 3"
    },
    "language_info": {
      "name": "python"
    }
  },
  "cells": [
    {
      "cell_type": "markdown",
      "metadata": {
        "id": "view-in-github",
        "colab_type": "text"
      },
      "source": [
        "<a href=\"https://colab.research.google.com/github/ishan13b/Pytorch-Implementation/blob/main/Logisitic_Regression_using_Pytorch.ipynb\" target=\"_parent\"><img src=\"https://colab.research.google.com/assets/colab-badge.svg\" alt=\"Open In Colab\"/></a>"
      ]
    },
    {
      "cell_type": "markdown",
      "source": [
        "0. Imports\n"
      ],
      "metadata": {
        "id": "TUW5_-a85NAF"
      }
    },
    {
      "cell_type": "code",
      "source": [
        "import torch\n",
        "import torch.nn as nn\n",
        "import numpy as np\n",
        "from sklearn import datasets\n",
        "from sklearn.preprocessing import StandardScaler\n",
        "from sklearn.model_selection import train_test_split"
      ],
      "metadata": {
        "id": "xMp7mAFV5WSL"
      },
      "execution_count": 1,
      "outputs": []
    },
    {
      "cell_type": "markdown",
      "source": [
        "1. Data Preparation\n"
      ],
      "metadata": {
        "id": "FaEjKqbH8uzh"
      }
    },
    {
      "cell_type": "code",
      "source": [
        "# Loading exisitng breast cancer classification data\n",
        "bc = datasets.load_breast_cancer()\n",
        "X, y = bc.data, bc.target\n",
        "\n",
        "n_samples, n_features = X.shape\n",
        "\n",
        "# Test/training split\n",
        "X_train, X_test, y_train, y_test = train_test_split(X,y, test_size = 0.2, random_state = 12)\n",
        "\n",
        "# Standardization\n",
        "\n",
        "sc = StandardScaler()\n",
        "X_train =sc.fit_transform(X_train)\n",
        "X_test = sc.transform(X_test)\n",
        "\n",
        "# Converting the numpy values to torch format\n",
        "\n",
        "X_train = torch.from_numpy(X_train.astype(np.float32))\n",
        "X_test = torch.from_numpy(X_test.astype(np.float32))\n",
        "y_train = torch.from_numpy(y_train.astype(np.float32))\n",
        "y_test = torch.from_numpy(y_test.astype(np.float32))\n",
        "\n",
        "# Changing shape of y_train,y_test to 2D\n",
        "\n",
        "y_train = y_train.view(y_train.shape[0],1)\n",
        "y_test = y_test.view(y_test.shape[0],1)\n"
      ],
      "metadata": {
        "id": "QldbWA5z8xiK"
      },
      "execution_count": 2,
      "outputs": []
    },
    {
      "cell_type": "markdown",
      "source": [
        "2. Model"
      ],
      "metadata": {
        "id": "QctANjVIDQnD"
      }
    },
    {
      "cell_type": "code",
      "source": [
        "# f= wx+b, sigmoid at the end\n",
        "\n",
        "class LogisticRegression(nn.Module):\n",
        "  def __init__(self, n_input_features):\n",
        "    super(LogisticRegression, self).__init__()\n",
        "    # defining layers\n",
        "    self.linear = nn.Linear(n_input_features, 1)\n",
        "\n",
        "  def forward(self,x):\n",
        "    y_predicted = torch.sigmoid(self.linear(x))\n",
        "    return y_predicted\n",
        "model = LogisticRegression(n_features)"
      ],
      "metadata": {
        "id": "z3y12tP6DThy"
      },
      "execution_count": 3,
      "outputs": []
    },
    {
      "cell_type": "markdown",
      "source": [
        "3. Loss & Optimizer"
      ],
      "metadata": {
        "id": "PBN8s3hmGIzx"
      }
    },
    {
      "cell_type": "code",
      "source": [
        "learning_rate = 0.05\n",
        "criterion = nn.BCELoss()\n",
        "optimizer = torch.optim.SGD(model.parameters(),lr = learning_rate)\n"
      ],
      "metadata": {
        "id": "Ch1JcDX0GOLH"
      },
      "execution_count": 4,
      "outputs": []
    },
    {
      "cell_type": "markdown",
      "source": [
        "4. Training Loop"
      ],
      "metadata": {
        "id": "nyS4YSKwGy0g"
      }
    },
    {
      "cell_type": "code",
      "source": [
        "num_epochs = 200\n",
        "for epochs in range(num_epochs):\n",
        "  #forward pass & loss\n",
        "  y_predicted = model(X_train)\n",
        "  loss = criterion(y_predicted, y_train)\n",
        "\n",
        "  #backward\n",
        "  loss.backward()\n",
        "\n",
        "  #update\n",
        "  optimizer.step()\n",
        "\n",
        "  #with no grad\n",
        "  optimizer.zero_grad()\n",
        "\n",
        "  #print\n",
        "  if (epochs+1) % 10 ==0:\n",
        "    print(f'epoch: {epochs+1}, loss: {loss.item():.4f}')\n",
        "\n",
        "# Accuracy Evaluation\n",
        "with torch.no_grad():\n",
        "  y_predicted = model(X_test)\n",
        "  y_pred_cls = y_predicted.round()\n",
        "  ac = y_pred_cls.eq(y_test).sum()/float(y_test.shape[0])\n",
        "  print(f'Accuracy:{ac:.4f}' )\n"
      ],
      "metadata": {
        "colab": {
          "base_uri": "https://localhost:8080/"
        },
        "id": "tFt7Tm77G1Z8",
        "outputId": "8327f934-d49e-4783-f1b1-25978c2ee986"
      },
      "execution_count": 5,
      "outputs": [
        {
          "output_type": "stream",
          "name": "stdout",
          "text": [
            "epoch: 10, loss: 0.3223\n",
            "epoch: 20, loss: 0.2434\n",
            "epoch: 30, loss: 0.2047\n",
            "epoch: 40, loss: 0.1808\n",
            "epoch: 50, loss: 0.1641\n",
            "epoch: 60, loss: 0.1517\n",
            "epoch: 70, loss: 0.1421\n",
            "epoch: 80, loss: 0.1344\n",
            "epoch: 90, loss: 0.1280\n",
            "epoch: 100, loss: 0.1226\n",
            "epoch: 110, loss: 0.1180\n",
            "epoch: 120, loss: 0.1140\n",
            "epoch: 130, loss: 0.1105\n",
            "epoch: 140, loss: 0.1074\n",
            "epoch: 150, loss: 0.1047\n",
            "epoch: 160, loss: 0.1021\n",
            "epoch: 170, loss: 0.0999\n",
            "epoch: 180, loss: 0.0978\n",
            "epoch: 190, loss: 0.0959\n",
            "epoch: 200, loss: 0.0942\n",
            "Accuracy:0.9649\n"
          ]
        }
      ]
    }
  ]
}
